{
 "cells": [
  {
   "cell_type": "markdown",
   "metadata": {},
   "source": [
    "## Combining CSVs: Useful Code Attempt 1\n",
    "\n",
    "### Here lies Anthea's first attempt at:\n",
    "\n",
    "*  making a chunk of code that does something useful\n",
    "\n",
    "*  hopefully will combine csvs based on headings in columns \n",
    "\n",
    "* will be universal so can be easily used by filling in file names, variables rather than exact names so there are minimal changes required by user\n",
    "\n",
    "* will count number of controls (CLIAhub named controls)\n",
    "\n",
    "* will determine if csvs are of the same length, will alphebetize\n",
    "\n",
    "* will check for symetry based on sample name and will remove any mismatches or extras from either list, then output is a separate file before merging\n",
    "\n",
    "* will combine based on sample name and create a merged file"
   ]
  },
  {
   "cell_type": "code",
   "execution_count": 31,
   "metadata": {},
   "outputs": [],
   "source": [
    "#Importing packages:\n",
    "\n",
    "import Bio as BP\n",
    "import pandas as pd\n",
    "import numpy as np\n",
    "import collections as col\n",
    "import os\n",
    "import csv\n",
    "import re\n",
    "import regex"
   ]
  },
  {
   "cell_type": "code",
   "execution_count": 32,
   "metadata": {
    "scrolled": true
   },
   "outputs": [
    {
     "name": "stdout",
     "output_type": "stream",
     "text": [
      "/Users/anthea.mitchell/Desktop/Coding/CSVs/the_great_merge\n"
     ]
    }
   ],
   "source": [
    "cd /Users/anthea.mitchell/Desktop/Coding/CSVs/the_great_merge"
   ]
  },
  {
   "cell_type": "code",
   "execution_count": 33,
   "metadata": {
    "scrolled": true
   },
   "outputs": [],
   "source": [
    "'''Makes all sample names uppercase and alphebetized'''\n",
    "\n",
    "def upper_alphebetize1(CSV_1, CSV_2):\n",
    "    CSV_1['Name'] =CSV_1['Name'].str.upper()\n",
    "    CSV_1 = CSV_1.sort_values('Name')\n",
    "    CSV_2['Name'] =CSV_2['Name'].str.upper()\n",
    "    CSV_2 = CSV_2.sort_values('Name')\n",
    "    return CSV_1, CSV_2\n"
   ]
  },
  {
   "cell_type": "code",
   "execution_count": 35,
   "metadata": {},
   "outputs": [],
   "source": [
    "'''Notifies user if sample names are the same by adding to a list and comparing the lists'''\n",
    "\n",
    "def compare_lists(CSV_1, CSV_2):\n",
    "    List1 = CSV_1['Name'].tolist()\n",
    "    List2 = CSV_2['Name'].tolist()\n",
    "    if List1 != List2:\n",
    "        print(\"\\nOh no! Your sample names don't match. This could mean there are extra samples on one or both lists, or simply that the names of samples are different. Proceed with caution and look closely at any changes made by script.\")\n",
    "        confirm = input(\"\\nType 'OK' to acknowledge. \")\n",
    "    if List1 == List2:\n",
    "        print(\"\\nGo ahead! Everything matches!\")\n",
    "    return List1, List2"
   ]
  },
  {
   "cell_type": "code",
   "execution_count": 36,
   "metadata": {},
   "outputs": [],
   "source": [
    "def make_lists(CSV_1, CSV_2):\n",
    "    List1 = CSV_1['Name'].tolist()\n",
    "    List2 = CSV_2['Name'].tolist()\n",
    "    return List1, List2"
   ]
  },
  {
   "cell_type": "code",
   "execution_count": 37,
   "metadata": {},
   "outputs": [],
   "source": [
    "def duplicate_search(List1, List2):\n",
    "    x = 0\n",
    "    Compare = col.Counter(List1)\n",
    "    for i in Compare:\n",
    "        x = x + Compare[i]\n",
    "        if Compare[i]>1:\n",
    "            print(\"\\nIn CSV_1 There is a repeated sample name called\", i, \"and you need to change or remove it before you continue.\")\n",
    "        elif x == len(List1):\n",
    "            print(\"\\nCSV_1 has no duplicates!\")\n",
    "    x = 0\n",
    "    Compare = col.Counter(List2)\n",
    "    for i in Compare:\n",
    "        x = x + Compare[i]\n",
    "        if Compare[i]>1:\n",
    "            print(\"\\nIn CSV_2 there is a repeated sample name called\", i, \"and you need to change or remove it before you continue.\")\n",
    "        elif x == len(List1):\n",
    "            print(\"\\nCSV_2 has no duplicates!\")\n",
    "    "
   ]
  },
  {
   "cell_type": "code",
   "execution_count": 38,
   "metadata": {},
   "outputs": [],
   "source": [
    "def loop_through_list_1(List1, List2):\n",
    "    new_set = set()\n",
    "    bad_set_1 = set()\n",
    "    for a in range(len(List1)):\n",
    "        flag = False\n",
    "        for b in range(len(List2)):\n",
    "            if List1[a] == List2[b]:\n",
    "                flag = True\n",
    "\n",
    "        if flag == True:\n",
    "            new_set.add(List1[a])\n",
    "            \n",
    "        if flag == False:\n",
    "            bad_set_1.add(List1[a])\n",
    "            \n",
    "    return bad_set_1, new_set"
   ]
  },
  {
   "cell_type": "code",
   "execution_count": 39,
   "metadata": {},
   "outputs": [],
   "source": [
    "def loop_through_list_2(List2, List1, bad_set_1, new_set):\n",
    "    for a in range(len(List2)):\n",
    "        flag = False\n",
    "        for b in range(len(List1)):\n",
    "            if List2[a] == List1[b]:\n",
    "                flag = True\n",
    "\n",
    "        if flag == True:\n",
    "            new_set.add(List2[a])\n",
    "            \n",
    "        if flag == False:\n",
    "            bad_set_1.add(List2[a])\n",
    "            \n",
    "    return bad_set_1, new_set"
   ]
  },
  {
   "cell_type": "code",
   "execution_count": 40,
   "metadata": {},
   "outputs": [],
   "source": [
    "def make_bad_list_CSV(bad_list):\n",
    "    BL = pd.DataFrame(bad_list)\n",
    "    #removed_samples = bad_list.pop(0)\n",
    "    #df = pd.DataFrame(bad_list, columns = removed_samples)\n",
    "    BL.to_csv(str(input(\"\\nWhat do you want to call your output list of removed samples? (don't forget to write '.csv' at the end.) \")))"
   ]
  },
  {
   "cell_type": "code",
   "execution_count": 42,
   "metadata": {},
   "outputs": [],
   "source": [
    "def create_great_merge_CSV_1(Ordered_CSV_1, Ordered_CSV_2, good_list):\n",
    "\n",
    "    new_df_1 = Ordered_CSV_1[Ordered_CSV_1.Name.isin(good_list)]\n",
    "    new_df_2 = Ordered_CSV_2[Ordered_CSV_2.Name.isin(good_list)]\n",
    "    #new_df_1.to_csv('new_df_1.csv')\n",
    "    #new_df_2.to_csv('new_df_2.csv')\n",
    "    MergeFile = pd.merge(new_df_1, new_df_2, left_on =[\"Name\"], right_on = [\"Name\"])\n",
    "    return MergeFile.to_csv(input(\"\\nWhat do you want to call you new merged file? (don't forget .csv at the end) \"))\n",
    "    \n"
   ]
  },
  {
   "cell_type": "code",
   "execution_count": 44,
   "metadata": {},
   "outputs": [],
   "source": [
    "def main():\n",
    "    print(\"This script takes two CSVs and merges them based on column heading. Please format your CSV so that names of samples are under a column called 'Name'.\")\n",
    "    CSV_1 = pd.read_csv(input(\"\\nWhat is your first csv file? (CSV_1) \"))\n",
    "    CSV_2 = pd.read_csv(input(\"\\nWhat is your second csv file? (CSV_2) \"))\n",
    "    Ordered_CSV_1, Ordered_CSV_2 = upper_alphebetize1(CSV_1, CSV_2)\n",
    "    List1, List2 = make_lists(Ordered_CSV_1, Ordered_CSV_2)\n",
    "    duplicate_search(List1, List2)\n",
    "    compare_lists(CSV_1, CSV_2)\n",
    "    bad_set_1, new_set = loop_through_list_1(List1, List2)\n",
    "    bad_set, good_set =loop_through_list_2(List2, List1, bad_set_1, new_set)\n",
    "    \n",
    "    bad_list = list(bad_set)\n",
    "    good_list = list(good_set)\n",
    "    \n",
    "    make_bad_list_CSV(bad_list)\n",
    "    create_great_merge_CSV_1(Ordered_CSV_1, Ordered_CSV_2, good_list)\n",
    "    print (\"All done! Check your folder for new files!\")\n",
    "    "
   ]
  },
  {
   "cell_type": "code",
   "execution_count": null,
   "metadata": {
    "scrolled": true
   },
   "outputs": [
    {
     "name": "stdout",
     "output_type": "stream",
     "text": [
      "This script takes two CSVs and merges them based on column heading. Please format your CSV so that names of samples are under a column called 'Name'.\n"
     ]
    }
   ],
   "source": [
    "main()"
   ]
  },
  {
   "cell_type": "markdown",
   "metadata": {},
   "source": [
    "### Listing and Counting Controls or Special Samples:"
   ]
  },
  {
   "cell_type": "code",
   "execution_count": null,
   "metadata": {
    "scrolled": true
   },
   "outputs": [],
   "source": [
    "CSV_1_String = str(CSV_1)\n",
    "NTC = re.findall(\"NTC\", CSV_1_String)\n",
    "print(NTC)\n",
    "print(len(NTC))\n"
   ]
  }
 ],
 "metadata": {
  "kernelspec": {
   "display_name": "Python 3",
   "language": "python",
   "name": "python3"
  },
  "language_info": {
   "codemirror_mode": {
    "name": "ipython",
    "version": 3
   },
   "file_extension": ".py",
   "mimetype": "text/x-python",
   "name": "python",
   "nbconvert_exporter": "python",
   "pygments_lexer": "ipython3",
   "version": "3.8.5"
  }
 },
 "nbformat": 4,
 "nbformat_minor": 4
}
