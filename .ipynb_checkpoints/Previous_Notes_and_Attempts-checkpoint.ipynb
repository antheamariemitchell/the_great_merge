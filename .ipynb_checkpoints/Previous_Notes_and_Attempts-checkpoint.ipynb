{
 "cells": [
  {
   "cell_type": "code",
   "execution_count": null,
   "metadata": {},
   "outputs": [],
   "source": [
    "# MUST PUT ALL IN MAIN for simpler formatting"
   ]
  },
  {
   "cell_type": "code",
   "execution_count": null,
   "metadata": {},
   "outputs": [],
   "source": [
    "#How to drop things from csv: https://www.shanelynn.ie/pandas-drop-delete-dataframe-rows-columns/#pandas-drop-cheatsheet"
   ]
  },
  {
   "cell_type": "code",
   "execution_count": null,
   "metadata": {},
   "outputs": [],
   "source": [
    "#need to go through and make things into variables so I don't have to change \"samplename\" to \"sampleid\" more than once"
   ]
  },
  {
   "cell_type": "markdown",
   "metadata": {},
   "source": [
    "## Combining CSVs: Useful Code Attempt 1\n",
    "\n",
    "### Here lies Anthea's first attempt at:\n",
    "\n",
    "*  making a chunk of code that does something useful\n",
    "\n",
    "*  hopefully will combine csvs based on headings in columns \n",
    "\n",
    "* will be universal so can be easily used by filling in file names, variables rather than exact names so there are minimal changes required by user\n",
    "\n",
    "* will count number of controls (CLIAhub named controls)\n",
    "\n",
    "* will determine if csvs are of the same length, will alphebetize\n",
    "\n",
    "* will check for symetry based on sample name and will remove any mismatches or extras from either list, then output is a separate file before merging\n",
    "\n",
    "* will combine based on sample name and create a merged file"
   ]
  },
  {
   "cell_type": "markdown",
   "metadata": {},
   "source": [
    "## Part 1: This script will take two CSVs and ensure they have the same sample names and are alphebetized."
   ]
  },
  {
   "cell_type": "code",
   "execution_count": 1,
   "metadata": {},
   "outputs": [],
   "source": [
    "#first I'm going to import all packages I need\n",
    "import Bio as BP\n",
    "import pandas as pd\n",
    "import numpy as np\n",
    "import collections as col\n",
    "import os\n",
    "import csv\n",
    "import re\n",
    "import regex"
   ]
  },
  {
   "cell_type": "markdown",
   "metadata": {},
   "source": [
    "Now I am going to change directories so I've navigated to where I store my CSVs, and read my two CSVs of interest."
   ]
  },
  {
   "cell_type": "code",
   "execution_count": 2,
   "metadata": {
    "scrolled": true
   },
   "outputs": [
    {
     "name": "stdout",
     "output_type": "stream",
     "text": [
      "/Users/anthea.mitchell/Desktop/Coding/CSVs/the_great_merge\n"
     ]
    }
   ],
   "source": [
    "cd /Users/anthea.mitchell/Desktop/Coding/CSVs/the_great_merge"
   ]
  },
  {
   "cell_type": "code",
   "execution_count": null,
   "metadata": {
    "scrolled": true
   },
   "outputs": [],
   "source": [
    "#General: CSV_1 = pd.read_csv(\"TYPE NAME HERE\")\n",
    "#This will read in files as specified by user:\n",
    "\n",
    "CSV_1 = pd.read_csv(input(\"What is your first csv file? \"))\n",
    "CSV_2 = pd.read_csv(input(\"What is your second csv file? \"))\n",
    "    \n",
    "'''To be Done: Error handling for this error: \n",
    "FileNotFoundError: [Errno 2] No such file or directory: 'dsfds'\n",
    "'''"
   ]
  },
  {
   "cell_type": "code",
   "execution_count": 3,
   "metadata": {
    "scrolled": true
   },
   "outputs": [],
   "source": [
    "'''Need to make all sample names uppercase and alphebetized? \n",
    "Use str and upper, and sort_values, as shown below.'''\n",
    "#General: CSV_1['Header'] =CSV_1['Header'].str.upper()\n",
    "\n",
    "def upper_alphebetize1(CSV_1):\n",
    "    CSV_1['Name'] =CSV_1['Name'].str.upper()\n",
    "    CSV_1 = CSV_1.sort_values('Name')\n",
    "    return CSV_1\n",
    "\n",
    "def upper_alphebetize2(CSV_2):\n",
    "    CSV_2['Name'] =CSV_2['Name'].str.upper()\n",
    "    CSV_2 = CSV_2.sort_values('Name')\n",
    "    return CSV_2"
   ]
  },
  {
   "cell_type": "markdown",
   "metadata": {},
   "source": [
    "# Part II: Code below will check if they are the same. Extra rows, or columns that don't match, including case sensitive, will return false"
   ]
  },
  {
   "cell_type": "code",
   "execution_count": 4,
   "metadata": {},
   "outputs": [],
   "source": [
    "#Notifies user if sample names are the same by adding to a list and comparing the lists\n",
    "def compare_lists(CSV_1, CSV_2):\n",
    "    List1 = CSV_1['Name'].tolist()\n",
    "    List2 = CSV_2['Name'].tolist()\n",
    "    if List1 != List2:\n",
    "        print(\"Heads up! Your sample names don't match. This could mean there are extra samples on one or both lists, or simply that the names of samples are different. Proceed with caution and look closely at any changes made by script.\")\n",
    "        confirm = input(\"Type 'OK' to acknowledge. \")\n",
    "    if List1 == List2:\n",
    "        print(\"Go ahead! Everything matches!\")\n",
    "    return List1, List2"
   ]
  },
  {
   "cell_type": "code",
   "execution_count": 5,
   "metadata": {},
   "outputs": [],
   "source": [
    "def make_lists1(CSV_1):\n",
    "    List1 = CSV_1['Name'].tolist()\n",
    "    return List1"
   ]
  },
  {
   "cell_type": "code",
   "execution_count": 6,
   "metadata": {},
   "outputs": [],
   "source": [
    "def make_lists2(CSV_2):\n",
    "    List2 = CSV_2['Name'].tolist()\n",
    "    return List2"
   ]
  },
  {
   "cell_type": "markdown",
   "metadata": {},
   "source": [
    "# It'd be great if this would output a list of what doesn't match:"
   ]
  },
  {
   "cell_type": "code",
   "execution_count": null,
   "metadata": {},
   "outputs": [],
   "source": [
    "'''take first item in list and loop through and look for\n",
    "a match. if i find it, then keep it. \n",
    "\n",
    "rinse and repeat all the way through. \n",
    "\n",
    "any that you don't find a match for are stripped and save in a different file.\n",
    "\n",
    "now repeat with the other list, in case that one contains different things. \n",
    "\n",
    "check again to see if same.\n",
    "\n",
    "then use that list to specify by name the row that you want merged,\n",
    "create new doc'''"
   ]
  },
  {
   "cell_type": "code",
   "execution_count": 21,
   "metadata": {},
   "outputs": [],
   "source": [
    "def loop_through_list_1(List1, List2):\n",
    "    new_list = []\n",
    "    for i in range(len(List1)):\n",
    "        for i in range(len(List1)):\n",
    "            if List1[i] == List2[i]:\n",
    "                new_list.append([i])\n",
    "            print(new_list)"
   ]
  },
  {
   "cell_type": "code",
   "execution_count": null,
   "metadata": {},
   "outputs": [],
   "source": []
  },
  {
   "cell_type": "code",
   "execution_count": null,
   "metadata": {},
   "outputs": [],
   "source": []
  },
  {
   "cell_type": "code",
   "execution_count": 22,
   "metadata": {},
   "outputs": [],
   "source": [
    "def main():\n",
    "    print(\"This script takes two CSVs and merges them based on column heading. Please format your CSV so that names of samples are under a column called 'Name'.\")\n",
    "    CSV_1 = pd.read_csv(input(\"What is your first csv file? \"))\n",
    "    CSV_2 = pd.read_csv(input(\"What is your second csv file? \"))\n",
    "    Ordered_CSV_1 = upper_alphebetize1(CSV_1)\n",
    "    Ordered_CSV_2 = upper_alphebetize2(CSV_2)\n",
    "    compare_lists(CSV_1, CSV_2)\n",
    "    \n",
    "    List1 = make_lists1(Ordered_CSV_1)\n",
    "    List2 = make_lists2(Ordered_CSV_2)\n",
    "    loop_through_list_1(List1, List2)    \n",
    "    "
   ]
  },
  {
   "cell_type": "code",
   "execution_count": 23,
   "metadata": {},
   "outputs": [
    {
     "name": "stdout",
     "output_type": "stream",
     "text": [
      "This script takes two CSVs and merges them based on column heading. Please format your CSV so that names of samples are under a column called 'Name'.\n",
      "What is your first csv file? Document1.csv\n",
      "What is your second csv file? Document2.csv\n",
      "Go ahead! Everything matches!\n",
      "[[0]]\n",
      "[[0], [1]]\n",
      "[[0], [1], [2]]\n",
      "[[0], [1], [2], [3]]\n",
      "[[0], [1], [2], [3], [4]]\n",
      "[[0], [1], [2], [3], [4], [5]]\n",
      "[[0], [1], [2], [3], [4], [5], [0]]\n",
      "[[0], [1], [2], [3], [4], [5], [0], [1]]\n",
      "[[0], [1], [2], [3], [4], [5], [0], [1], [2]]\n",
      "[[0], [1], [2], [3], [4], [5], [0], [1], [2], [3]]\n",
      "[[0], [1], [2], [3], [4], [5], [0], [1], [2], [3], [4]]\n",
      "[[0], [1], [2], [3], [4], [5], [0], [1], [2], [3], [4], [5]]\n",
      "[[0], [1], [2], [3], [4], [5], [0], [1], [2], [3], [4], [5], [0]]\n",
      "[[0], [1], [2], [3], [4], [5], [0], [1], [2], [3], [4], [5], [0], [1]]\n",
      "[[0], [1], [2], [3], [4], [5], [0], [1], [2], [3], [4], [5], [0], [1], [2]]\n",
      "[[0], [1], [2], [3], [4], [5], [0], [1], [2], [3], [4], [5], [0], [1], [2], [3]]\n",
      "[[0], [1], [2], [3], [4], [5], [0], [1], [2], [3], [4], [5], [0], [1], [2], [3], [4]]\n",
      "[[0], [1], [2], [3], [4], [5], [0], [1], [2], [3], [4], [5], [0], [1], [2], [3], [4], [5]]\n",
      "[[0], [1], [2], [3], [4], [5], [0], [1], [2], [3], [4], [5], [0], [1], [2], [3], [4], [5], [0]]\n",
      "[[0], [1], [2], [3], [4], [5], [0], [1], [2], [3], [4], [5], [0], [1], [2], [3], [4], [5], [0], [1]]\n",
      "[[0], [1], [2], [3], [4], [5], [0], [1], [2], [3], [4], [5], [0], [1], [2], [3], [4], [5], [0], [1], [2]]\n",
      "[[0], [1], [2], [3], [4], [5], [0], [1], [2], [3], [4], [5], [0], [1], [2], [3], [4], [5], [0], [1], [2], [3]]\n",
      "[[0], [1], [2], [3], [4], [5], [0], [1], [2], [3], [4], [5], [0], [1], [2], [3], [4], [5], [0], [1], [2], [3], [4]]\n",
      "[[0], [1], [2], [3], [4], [5], [0], [1], [2], [3], [4], [5], [0], [1], [2], [3], [4], [5], [0], [1], [2], [3], [4], [5]]\n",
      "[[0], [1], [2], [3], [4], [5], [0], [1], [2], [3], [4], [5], [0], [1], [2], [3], [4], [5], [0], [1], [2], [3], [4], [5], [0]]\n",
      "[[0], [1], [2], [3], [4], [5], [0], [1], [2], [3], [4], [5], [0], [1], [2], [3], [4], [5], [0], [1], [2], [3], [4], [5], [0], [1]]\n",
      "[[0], [1], [2], [3], [4], [5], [0], [1], [2], [3], [4], [5], [0], [1], [2], [3], [4], [5], [0], [1], [2], [3], [4], [5], [0], [1], [2]]\n",
      "[[0], [1], [2], [3], [4], [5], [0], [1], [2], [3], [4], [5], [0], [1], [2], [3], [4], [5], [0], [1], [2], [3], [4], [5], [0], [1], [2], [3]]\n",
      "[[0], [1], [2], [3], [4], [5], [0], [1], [2], [3], [4], [5], [0], [1], [2], [3], [4], [5], [0], [1], [2], [3], [4], [5], [0], [1], [2], [3], [4]]\n",
      "[[0], [1], [2], [3], [4], [5], [0], [1], [2], [3], [4], [5], [0], [1], [2], [3], [4], [5], [0], [1], [2], [3], [4], [5], [0], [1], [2], [3], [4], [5]]\n",
      "[[0], [1], [2], [3], [4], [5], [0], [1], [2], [3], [4], [5], [0], [1], [2], [3], [4], [5], [0], [1], [2], [3], [4], [5], [0], [1], [2], [3], [4], [5], [0]]\n",
      "[[0], [1], [2], [3], [4], [5], [0], [1], [2], [3], [4], [5], [0], [1], [2], [3], [4], [5], [0], [1], [2], [3], [4], [5], [0], [1], [2], [3], [4], [5], [0], [1]]\n",
      "[[0], [1], [2], [3], [4], [5], [0], [1], [2], [3], [4], [5], [0], [1], [2], [3], [4], [5], [0], [1], [2], [3], [4], [5], [0], [1], [2], [3], [4], [5], [0], [1], [2]]\n",
      "[[0], [1], [2], [3], [4], [5], [0], [1], [2], [3], [4], [5], [0], [1], [2], [3], [4], [5], [0], [1], [2], [3], [4], [5], [0], [1], [2], [3], [4], [5], [0], [1], [2], [3]]\n",
      "[[0], [1], [2], [3], [4], [5], [0], [1], [2], [3], [4], [5], [0], [1], [2], [3], [4], [5], [0], [1], [2], [3], [4], [5], [0], [1], [2], [3], [4], [5], [0], [1], [2], [3], [4]]\n",
      "[[0], [1], [2], [3], [4], [5], [0], [1], [2], [3], [4], [5], [0], [1], [2], [3], [4], [5], [0], [1], [2], [3], [4], [5], [0], [1], [2], [3], [4], [5], [0], [1], [2], [3], [4], [5]]\n"
     ]
    }
   ],
   "source": [
    "main()"
   ]
  },
  {
   "cell_type": "code",
   "execution_count": null,
   "metadata": {},
   "outputs": [],
   "source": []
  },
  {
   "cell_type": "code",
   "execution_count": null,
   "metadata": {},
   "outputs": [],
   "source": []
  },
  {
   "cell_type": "code",
   "execution_count": null,
   "metadata": {},
   "outputs": [],
   "source": []
  },
  {
   "cell_type": "code",
   "execution_count": null,
   "metadata": {},
   "outputs": [],
   "source": [
    "### PROBLEMS: This is not printing out differences for some reason.\n",
    "### need to do error handling for IndexError: list index out of range\n",
    "# Also it's only working on the list of sample names I created and alphabatized above,\n",
    "# so it doesn't actually affect the real csv, which is a problem. "
   ]
  },
  {
   "cell_type": "code",
   "execution_count": 26,
   "metadata": {},
   "outputs": [
    {
     "ename": "NameError",
     "evalue": "name 'List1' is not defined",
     "output_type": "error",
     "traceback": [
      "\u001b[0;31m---------------------------------------------------------------------------\u001b[0m",
      "\u001b[0;31mNameError\u001b[0m                                 Traceback (most recent call last)",
      "\u001b[0;32m<ipython-input-26-25a86834bd9c>\u001b[0m in \u001b[0;36m<module>\u001b[0;34m\u001b[0m\n\u001b[0;32m----> 1\u001b[0;31m \u001b[0mPracticeList1\u001b[0m \u001b[0;34m=\u001b[0m \u001b[0mList1\u001b[0m\u001b[0;34m\u001b[0m\u001b[0;34m\u001b[0m\u001b[0m\n\u001b[0m\u001b[1;32m      2\u001b[0m \u001b[0mPracticeList2\u001b[0m \u001b[0;34m=\u001b[0m \u001b[0mList2\u001b[0m\u001b[0;34m\u001b[0m\u001b[0;34m\u001b[0m\u001b[0m\n\u001b[1;32m      3\u001b[0m \u001b[0;34m\u001b[0m\u001b[0m\n\u001b[1;32m      4\u001b[0m \u001b[0mx\u001b[0m \u001b[0;34m=\u001b[0m \u001b[0;34m\"PracticeList1\"\u001b[0m\u001b[0;34m\u001b[0m\u001b[0;34m\u001b[0m\u001b[0m\n\u001b[1;32m      5\u001b[0m \u001b[0my\u001b[0m \u001b[0;34m=\u001b[0m \u001b[0;34m\"Practicelist2\"\u001b[0m\u001b[0;34m\u001b[0m\u001b[0;34m\u001b[0m\u001b[0m\n",
      "\u001b[0;31mNameError\u001b[0m: name 'List1' is not defined"
     ]
    }
   ],
   "source": [
    "PracticeList1 = List1\n",
    "PracticeList2 = List2\n",
    "\n",
    "x = \"PracticeList1\"\n",
    "y = \"Practicelist2\"\n",
    "# checkifmissing(str(List1), str(List2) )   \n",
    "\n",
    "#checking through list1 and list 2 at each position\n",
    "Difference = []\n",
    "for i in range(len(PracticeList1)):   \n",
    "    if PracticeList1[i] != PracticeList2[i] and len(PracticeList1) > len(PracticeList2):\n",
    "        Difference.append(PracticeList1[i])\n",
    "        print(Difference)\n",
    "        print(\"There were additional things in\", x, \"that were not in\", y, \"and they have been stripped and saved in a file called Difference.csv for your records.\")\n",
    "        DifferenceDF = pd.DataFrame(Difference, columns=[\"Additional_Samples\"])\n",
    "        DifferenceDF.to_csv(r'Difference.csv')\n",
    "        PracticeList1.remove(PracticeList1[i])\n",
    "        print(PracticeList1)\n",
    "        \n",
    "    elif PracticeList1[i] != PracticeList2[i] and len(PracticeList1) < len(PracticeList2):\n",
    "        Difference.append(PracticeList1[i])\n",
    "        print(Difference)\n",
    "        print(\"There were additional things in\", y, \"that were not in\", x, \"and they have been stripped and saved in a file called Difference.csv for your records.\")\n",
    "        DifferenceDF = pd.DataFrame(Difference, columns=[\"Additional_Samples\"])\n",
    "        DifferenceDF.to_csv(r'Difference3.csv')\n",
    "        PracticeList2.remove(PracticeList2[i])\n",
    "        print(PracticeList2)\n",
    "        \n",
    "    elif PracticeList1[i] != PracticeList2[i] and len(PracticeList1) == len(PracticeList2):\n",
    "        Difference.append(PracticeList1[i])\n",
    "        Difference.append(PracticeList2[i])\n",
    "        print(Difference)\n",
    "        print(\"These CSVs were the same length but had different things in each. The ones that did not match were stripped and saved in a file called Difference.csv for your records.\")\n",
    "        DifferenceDF = pd.DataFrame(Difference, columns=[\"Additional_Samples\"])\n",
    "        DifferenceDF.to_csv(r'Difference2.csv')\n",
    "        PracticeList1.remove(PracticeList1[i])\n",
    "        PracticeList2.remove(PracticeList2[i])\n",
    "        print(PracticeList1, PracticeList2) \n",
    "        \n",
    "if PracticeList1[i] == PracticeList2[i] and len(PracticeList1) == len(PracticeList2):\n",
    "        print(\"These match up! Great! Merge the two CSVs.\")\n",
    "        \n",
    "    \n"
   ]
  },
  {
   "cell_type": "code",
   "execution_count": null,
   "metadata": {},
   "outputs": [],
   "source": [
    "raise NameError('booo')"
   ]
  },
  {
   "cell_type": "markdown",
   "metadata": {},
   "source": [
    "# It'd be great if the code below would remove anything that doesn't match up. "
   ]
  },
  {
   "cell_type": "code",
   "execution_count": null,
   "metadata": {},
   "outputs": [],
   "source": [
    "#Remove anything that doesn't match. Strip? \n",
    "List1 = CSV_1['sample'].tolist()\n",
    "List2 = CSV_2['Sample_ID'].tolist()\n",
    "def strip(a,b, List1, List2)\n",
    "   for a in List1 and b in List2:\n",
    "        if a != b\n",
    "\n",
    "    print(\"Do not proceed. Sample names don't match.\")\n",
    "if List1 == List2:\n",
    "    print(\"Go ahead! Everything matches!\")"
   ]
  },
  {
   "cell_type": "markdown",
   "metadata": {},
   "source": [
    "# Code below will check if there are duplicates and tell you not to proceed unless you give each a unique name if it finds duplicate sample names."
   ]
  },
  {
   "cell_type": "code",
   "execution_count": 31,
   "metadata": {},
   "outputs": [],
   "source": [
    "List1 = [\"turtle\", \"bob\", \"jake\", \"tammy\", \"tammy\"]\n",
    "List2 = [\"turtle\", \"bob\", \"jake\", \"tammy\", \"tammy\"]"
   ]
  },
  {
   "cell_type": "code",
   "execution_count": 34,
   "metadata": {},
   "outputs": [
    {
     "name": "stdout",
     "output_type": "stream",
     "text": [
      "Counter({'tammy': 2, 'turtle': 1, 'bob': 1, 'jake': 1})\n",
      "There is a repeated sample name called tammy and you need to change it to be unique for CSV_1.\n",
      "There is a repeated sample name called tammy and you need to change it to be unique for CSV_2.\n"
     ]
    }
   ],
   "source": [
    "x = 0\n",
    "Compare = col.Counter(List1)\n",
    "for i in Compare:\n",
    "    x = x + Compare[i]\n",
    "    if Compare[i]>1:\n",
    "        print(\"There is a repeated sample name called\", i, \"and you need to change it to be unique for CSV_1.\")\n",
    "    elif x == len(List1):\n",
    "        print(\"Looks great! Let's merge CSV_1!\")\n",
    "List2\n",
    "x = 0\n",
    "Compare = col.Counter(List2)\n",
    "for i in Compare:\n",
    "    x = x + Compare[i]\n",
    "    if Compare[i]>1:\n",
    "        print(\"There is a repeated sample name called\", i, \"and you need to change it to be unique for CSV_2.\")\n",
    "    elif x == len(List1):\n",
    "        print(\"Looks great! Let's merge CSV_2!\")"
   ]
  },
  {
   "cell_type": "markdown",
   "metadata": {},
   "source": [
    "# Merge"
   ]
  },
  {
   "cell_type": "code",
   "execution_count": null,
   "metadata": {
    "scrolled": true
   },
   "outputs": [],
   "source": [
    "#MergeCSV = CSV_1_upper.merge(CSV_2_upper, on= \"name\")"
   ]
  },
  {
   "cell_type": "code",
   "execution_count": null,
   "metadata": {},
   "outputs": [],
   "source": [
    "#Remove the weird unnamed thing that was added at some step.\n",
    "#CSV_1_upper.drop('Unnamed: 0', inplace=True, axis=1)\n",
    "\n",
    "MergeFile = pd.merge(CSV_1, CSV_2, left_on =[\"sample\"], right_on = [\"Sample_ID\"])\n",
    "MergeFile"
   ]
  },
  {
   "cell_type": "markdown",
   "metadata": {},
   "source": [
    "# If you want to strip one of those name columns use the script below:"
   ]
  },
  {
   "cell_type": "code",
   "execution_count": null,
   "metadata": {},
   "outputs": [],
   "source": [
    "#MergeFile.drop('Sample_ID', inplace=True, axis=1)"
   ]
  },
  {
   "cell_type": "markdown",
   "metadata": {},
   "source": [
    "\n",
    "\n",
    "## Pick new name for merged file and save below:"
   ]
  },
  {
   "cell_type": "code",
   "execution_count": null,
   "metadata": {},
   "outputs": [],
   "source": [
    "MergeFile.to_csv(r'New_File_Name.csv')"
   ]
  },
  {
   "cell_type": "markdown",
   "metadata": {},
   "source": [
    "### Listing and Counting Controls or Special Samples:"
   ]
  },
  {
   "cell_type": "code",
   "execution_count": null,
   "metadata": {
    "scrolled": true
   },
   "outputs": [],
   "source": [
    "CSV_1_String = str(CSV_1)\n",
    "NTC = re.findall(\"NTC\", CSV_1_String)\n",
    "print(NTC)\n",
    "print(len(NTC))\n"
   ]
  }
 ],
 "metadata": {
  "kernelspec": {
   "display_name": "Python 3",
   "language": "python",
   "name": "python3"
  },
  "language_info": {
   "codemirror_mode": {
    "name": "ipython",
    "version": 3
   },
   "file_extension": ".py",
   "mimetype": "text/x-python",
   "name": "python",
   "nbconvert_exporter": "python",
   "pygments_lexer": "ipython3",
   "version": "3.8.5"
  }
 },
 "nbformat": 4,
 "nbformat_minor": 4
}
