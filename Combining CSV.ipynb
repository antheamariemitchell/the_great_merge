{
 "cells": [
  {
   "cell_type": "markdown",
   "metadata": {},
   "source": [
    "This is me adding a cell to see how github works"
   ]
  },
  {
   "cell_type": "code",
   "execution_count": null,
   "metadata": {},
   "outputs": [],
   "source": [
    "#How to drop things from csv: https://www.shanelynn.ie/pandas-drop-delete-dataframe-rows-columns/#pandas-drop-cheatsheet"
   ]
  },
  {
   "cell_type": "code",
   "execution_count": null,
   "metadata": {},
   "outputs": [],
   "source": [
    "#need to go through and make things into variables so I don't have to change \"samplename\" to \"sampleid\" more than once"
   ]
  },
  {
   "cell_type": "markdown",
   "metadata": {},
   "source": [
    "## Combining CSVs: Useful Code Attempt 1\n",
    "\n",
    "### Here lies Anthea's first attempt at:\n",
    "\n",
    "*  making a chunk of code that does something useful\n",
    "\n",
    "*  hopefully will combine csvs based on headings in columns \n",
    "\n",
    "* will count number of controls (CLIAhub named controls)\n",
    "\n",
    "*  might combine based on sample name? "
   ]
  },
  {
   "cell_type": "markdown",
   "metadata": {},
   "source": [
    "## This script requires two CSVs that have the same sample names and are alphebetized. Sample names can not be repeated. "
   ]
  },
  {
   "cell_type": "code",
   "execution_count": 76,
   "metadata": {},
   "outputs": [],
   "source": [
    "#first I'm going to import all packages I need, \n",
    "#being overcareful in case I happen to need something I'm not expecting\n",
    "import Bio as BP\n",
    "import pandas as pd\n",
    "import numpy as np\n",
    "import collections as col\n",
    "import os\n",
    "import csv\n",
    "import re\n",
    "import regex\n"
   ]
  },
  {
   "cell_type": "markdown",
   "metadata": {},
   "source": [
    "Now I am going to change directories so I've navigated to where I store my CSVs, and read my two CSVs of interest."
   ]
  },
  {
   "cell_type": "code",
   "execution_count": 77,
   "metadata": {},
   "outputs": [
    {
     "name": "stdout",
     "output_type": "stream",
     "text": [
      "/Users/anthea.mitchell/Desktop/Coding/CSVs\n"
     ]
    }
   ],
   "source": [
    "cd /Users/anthea.mitchell/Desktop/Coding/CSVs"
   ]
  },
  {
   "cell_type": "code",
   "execution_count": 78,
   "metadata": {},
   "outputs": [],
   "source": [
    "#General: CSV_1 = pd.read_csv(\"TYPE NAME HERE\")\n",
    "#Read in files:\n",
    "CSV_1 = pd.read_csv(\"Animal_CSV.csv\")\n",
    "CSV_2 = pd.read_csv(\"Animal_CSV_2.csv\")"
   ]
  },
  {
   "cell_type": "code",
   "execution_count": 79,
   "metadata": {
    "scrolled": true
   },
   "outputs": [],
   "source": [
    "#Need to make all sample names uppercase? Use str and upper, as shown\n",
    "#below.\n",
    "#Once you've read the csv, fill in below.\n",
    "#General: CSV_1['Header'] =CSV_1['Header'].str.upper()\n",
    "CSV_1['Name'] =CSV_1['Name'].str.upper()\n",
    "CSV_2['Name'] =CSV_2['Name'].str.upper()\n",
    "CSV_1 = CSV_1.sort_values('Name')\n",
    "CSV_2 = CSV_2.sort_values('Name')"
   ]
  },
  {
   "cell_type": "markdown",
   "metadata": {},
   "source": [
    "# Code below will check if they are the same. Extra rows, or columns that don't match, including case sensitive, will return false"
   ]
  },
  {
   "cell_type": "code",
   "execution_count": 80,
   "metadata": {},
   "outputs": [
    {
     "name": "stdout",
     "output_type": "stream",
     "text": [
      "Do not proceed. Sample names don't match.\n"
     ]
    }
   ],
   "source": [
    "#are they the same?\n",
    "List1 = CSV_1['Name'].tolist()\n",
    "List2 = CSV_2['Name'].tolist()\n",
    "if List1 != List2:\n",
    "    print(\"Do not proceed. Sample names don't match.\")\n",
    "if List1 == List2:\n",
    "    print(\"Go ahead! Everything matches!\")"
   ]
  },
  {
   "cell_type": "markdown",
   "metadata": {},
   "source": [
    "# It'd be great if this would Give a list of what doesn't match:"
   ]
  },
  {
   "cell_type": "code",
   "execution_count": null,
   "metadata": {},
   "outputs": [],
   "source": [
    "### PROBLEMS: This is not printing out differences for some reason.\n",
    "### need to do error handling for IndexError: list index out of range\n",
    "# Also it's only working on the list of sample names I created and alphabatized above,\n",
    "# so it doesn't actually affect the real csv, which is a problem. "
   ]
  },
  {
   "cell_type": "code",
   "execution_count": 81,
   "metadata": {},
   "outputs": [
    {
     "name": "stdout",
     "output_type": "stream",
     "text": [
      "['DUMB']\n",
      "There were additional things in PracticeList1 that were not in Practicelist2 and they have been stripped and saved in a file called Difference.csv for your records.\n",
      "['ABC', 'BOBBY', 'BOOGER', 'DEF', 'DUMBER', 'DUMBEST', 'HRC', 'NTC', 'PBS', 'PC', 'TEDDY', 'TOMMY', 'TONY']\n",
      "['DUMB', 'DUMBEST']\n",
      "There were additional things in PracticeList1 that were not in Practicelist2 and they have been stripped and saved in a file called Difference.csv for your records.\n",
      "['ABC', 'BOBBY', 'BOOGER', 'DEF', 'DUMBER', 'HRC', 'NTC', 'PBS', 'PC', 'TEDDY', 'TOMMY', 'TONY']\n",
      "['DUMB', 'DUMBEST', 'NTC']\n",
      "There were additional things in PracticeList1 that were not in Practicelist2 and they have been stripped and saved in a file called Difference.csv for your records.\n",
      "['ABC', 'BOBBY', 'BOOGER', 'DEF', 'DUMBER', 'HRC', 'PBS', 'PC', 'TEDDY', 'TOMMY', 'TONY']\n"
     ]
    },
    {
     "ename": "IndexError",
     "evalue": "list index out of range",
     "output_type": "error",
     "traceback": [
      "\u001b[0;31m---------------------------------------------------------------------------\u001b[0m",
      "\u001b[0;31mIndexError\u001b[0m                                Traceback (most recent call last)",
      "\u001b[0;32m<ipython-input-81-25a86834bd9c>\u001b[0m in \u001b[0;36m<module>\u001b[0;34m\u001b[0m\n\u001b[1;32m      9\u001b[0m \u001b[0mDifference\u001b[0m \u001b[0;34m=\u001b[0m \u001b[0;34m[\u001b[0m\u001b[0;34m]\u001b[0m\u001b[0;34m\u001b[0m\u001b[0;34m\u001b[0m\u001b[0m\n\u001b[1;32m     10\u001b[0m \u001b[0;32mfor\u001b[0m \u001b[0mi\u001b[0m \u001b[0;32min\u001b[0m \u001b[0mrange\u001b[0m\u001b[0;34m(\u001b[0m\u001b[0mlen\u001b[0m\u001b[0;34m(\u001b[0m\u001b[0mPracticeList1\u001b[0m\u001b[0;34m)\u001b[0m\u001b[0;34m)\u001b[0m\u001b[0;34m:\u001b[0m\u001b[0;34m\u001b[0m\u001b[0;34m\u001b[0m\u001b[0m\n\u001b[0;32m---> 11\u001b[0;31m     \u001b[0;32mif\u001b[0m \u001b[0mPracticeList1\u001b[0m\u001b[0;34m[\u001b[0m\u001b[0mi\u001b[0m\u001b[0;34m]\u001b[0m \u001b[0;34m!=\u001b[0m \u001b[0mPracticeList2\u001b[0m\u001b[0;34m[\u001b[0m\u001b[0mi\u001b[0m\u001b[0;34m]\u001b[0m \u001b[0;32mand\u001b[0m \u001b[0mlen\u001b[0m\u001b[0;34m(\u001b[0m\u001b[0mPracticeList1\u001b[0m\u001b[0;34m)\u001b[0m \u001b[0;34m>\u001b[0m \u001b[0mlen\u001b[0m\u001b[0;34m(\u001b[0m\u001b[0mPracticeList2\u001b[0m\u001b[0;34m)\u001b[0m\u001b[0;34m:\u001b[0m\u001b[0;34m\u001b[0m\u001b[0;34m\u001b[0m\u001b[0m\n\u001b[0m\u001b[1;32m     12\u001b[0m         \u001b[0mDifference\u001b[0m\u001b[0;34m.\u001b[0m\u001b[0mappend\u001b[0m\u001b[0;34m(\u001b[0m\u001b[0mPracticeList1\u001b[0m\u001b[0;34m[\u001b[0m\u001b[0mi\u001b[0m\u001b[0;34m]\u001b[0m\u001b[0;34m)\u001b[0m\u001b[0;34m\u001b[0m\u001b[0;34m\u001b[0m\u001b[0m\n\u001b[1;32m     13\u001b[0m         \u001b[0mprint\u001b[0m\u001b[0;34m(\u001b[0m\u001b[0mDifference\u001b[0m\u001b[0;34m)\u001b[0m\u001b[0;34m\u001b[0m\u001b[0;34m\u001b[0m\u001b[0m\n",
      "\u001b[0;31mIndexError\u001b[0m: list index out of range"
     ]
    }
   ],
   "source": [
    "PracticeList1 = List1\n",
    "PracticeList2 = List2\n",
    "\n",
    "x = \"PracticeList1\"\n",
    "y = \"Practicelist2\"\n",
    "# checkifmissing(str(List1), str(List2) )   \n",
    "\n",
    "#checking through list1 and list 2 at each position\n",
    "Difference = []\n",
    "for i in range(len(PracticeList1)):   \n",
    "    if PracticeList1[i] != PracticeList2[i] and len(PracticeList1) > len(PracticeList2):\n",
    "        Difference.append(PracticeList1[i])\n",
    "        print(Difference)\n",
    "        print(\"There were additional things in\", x, \"that were not in\", y, \"and they have been stripped and saved in a file called Difference.csv for your records.\")\n",
    "        DifferenceDF = pd.DataFrame(Difference, columns=[\"Additional_Samples\"])\n",
    "        DifferenceDF.to_csv(r'Difference.csv')\n",
    "        PracticeList1.remove(PracticeList1[i])\n",
    "        print(PracticeList1)\n",
    "        \n",
    "    elif PracticeList1[i] != PracticeList2[i] and len(PracticeList1) < len(PracticeList2):\n",
    "        Difference.append(PracticeList1[i])\n",
    "        print(Difference)\n",
    "        print(\"There were additional things in\", y, \"that were not in\", x, \"and they have been stripped and saved in a file called Difference.csv for your records.\")\n",
    "        DifferenceDF = pd.DataFrame(Difference, columns=[\"Additional_Samples\"])\n",
    "        DifferenceDF.to_csv(r'Difference3.csv')\n",
    "        PracticeList2.remove(PracticeList2[i])\n",
    "        print(PracticeList2)\n",
    "        \n",
    "    elif PracticeList1[i] != PracticeList2[i] and len(PracticeList1) == len(PracticeList2):\n",
    "        Difference.append(PracticeList1[i])\n",
    "        Difference.append(PracticeList2[i])\n",
    "        print(Difference)\n",
    "        print(\"These CSVs were the same length but had different things in each. The ones that did not match were stripped and saved in a file called Difference.csv for your records.\")\n",
    "        DifferenceDF = pd.DataFrame(Difference, columns=[\"Additional_Samples\"])\n",
    "        DifferenceDF.to_csv(r'Difference2.csv')\n",
    "        PracticeList1.remove(PracticeList1[i])\n",
    "        PracticeList2.remove(PracticeList2[i])\n",
    "        print(PracticeList1, PracticeList2) \n",
    "        \n",
    "if PracticeList1[i] == PracticeList2[i] and len(PracticeList1) == len(PracticeList2):\n",
    "        print(\"These match up! Great! Merge the two CSVs.\")\n",
    "        \n",
    "    \n"
   ]
  },
  {
   "cell_type": "code",
   "execution_count": 85,
   "metadata": {},
   "outputs": [
    {
     "ename": "NameError",
     "evalue": "booo",
     "output_type": "error",
     "traceback": [
      "\u001b[0;31m---------------------------------------------------------------------------\u001b[0m",
      "\u001b[0;31mNameError\u001b[0m                                 Traceback (most recent call last)",
      "\u001b[0;32m<ipython-input-85-0e2641097907>\u001b[0m in \u001b[0;36m<module>\u001b[0;34m\u001b[0m\n\u001b[0;32m----> 1\u001b[0;31m \u001b[0;32mraise\u001b[0m \u001b[0mNameError\u001b[0m\u001b[0;34m(\u001b[0m\u001b[0;34m'booo'\u001b[0m\u001b[0;34m)\u001b[0m\u001b[0;34m\u001b[0m\u001b[0;34m\u001b[0m\u001b[0m\n\u001b[0m",
      "\u001b[0;31mNameError\u001b[0m: booo"
     ]
    }
   ],
   "source": [
    "raise NameError('booo')"
   ]
  },
  {
   "cell_type": "markdown",
   "metadata": {},
   "source": [
    "# It'd be great if the code below would remove anything that doesn't match up. "
   ]
  },
  {
   "cell_type": "code",
   "execution_count": null,
   "metadata": {},
   "outputs": [],
   "source": [
    "#Remove anything that doesn't match. Strip? \n",
    "List1 = CSV_1['sample'].tolist()\n",
    "List2 = CSV_2['Sample_ID'].tolist()\n",
    "def strip(a,b, List1, List2)\n",
    "   for a in List1 and b in List2:\n",
    "        if a != b\n",
    "\n",
    "    print(\"Do not proceed. Sample names don't match.\")\n",
    "if List1 == List2:\n",
    "    print(\"Go ahead! Everything matches!\")"
   ]
  },
  {
   "cell_type": "markdown",
   "metadata": {},
   "source": [
    "# Code below will check if there are duplicates and tell you not to proceed unless you give each a unique name if it finds duplicate sample names."
   ]
  },
  {
   "cell_type": "code",
   "execution_count": null,
   "metadata": {},
   "outputs": [],
   "source": [
    "List1\n",
    "x = 0\n",
    "Compare = col.Counter(List1)\n",
    "for i in Compare:\n",
    "    x = x + Compare[i]\n",
    "    if Compare[i]>1:\n",
    "        print(\"There is a repeated sample name called\", i, \"and you need to change it to be unique for CSV_1.\")\n",
    "    elif x == len(List1):\n",
    "        print(\"Looks great! Let's merge CSV_1!\")\n",
    "List2\n",
    "x = 0\n",
    "Compare = col.Counter(List2)\n",
    "for i in Compare:\n",
    "    x = x + Compare[i]\n",
    "    if Compare[i]>1:\n",
    "        print(\"There is a repeated sample name called\", i, \"and you need to change it to be unique for CSV_2.\")\n",
    "    elif x == len(List1):\n",
    "        print(\"Looks great! Let's merge CSV_2!\")"
   ]
  },
  {
   "cell_type": "markdown",
   "metadata": {},
   "source": [
    "# Merge"
   ]
  },
  {
   "cell_type": "code",
   "execution_count": null,
   "metadata": {
    "scrolled": true
   },
   "outputs": [],
   "source": [
    "#MergeCSV = CSV_1_upper.merge(CSV_2_upper, on= \"name\")"
   ]
  },
  {
   "cell_type": "code",
   "execution_count": null,
   "metadata": {},
   "outputs": [],
   "source": [
    "#Remove the weird unnamed thing that was added at some step.\n",
    "#CSV_1_upper.drop('Unnamed: 0', inplace=True, axis=1)\n",
    "\n",
    "MergeFile = pd.merge(CSV_1, CSV_2, left_on =[\"sample\"], right_on = [\"Sample_ID\"])\n",
    "MergeFile"
   ]
  },
  {
   "cell_type": "markdown",
   "metadata": {},
   "source": [
    "# If you want to strip one of those name columns use the script below:"
   ]
  },
  {
   "cell_type": "code",
   "execution_count": null,
   "metadata": {},
   "outputs": [],
   "source": [
    "#MergeFile.drop('Sample_ID', inplace=True, axis=1)"
   ]
  },
  {
   "cell_type": "markdown",
   "metadata": {},
   "source": [
    "\n",
    "\n",
    "## Pick new name for merged file and save below:"
   ]
  },
  {
   "cell_type": "code",
   "execution_count": null,
   "metadata": {},
   "outputs": [],
   "source": [
    "MergeFile.to_csv(r'New_File_Name.csv')"
   ]
  },
  {
   "cell_type": "markdown",
   "metadata": {},
   "source": [
    "### Listing and Counting Controls or Special Samples:"
   ]
  },
  {
   "cell_type": "code",
   "execution_count": null,
   "metadata": {
    "scrolled": true
   },
   "outputs": [],
   "source": [
    "CSV_1_String = str(CSV_1)\n",
    "NTC = re.findall(\"NTC\", CSV_1_String)\n",
    "print(NTC)\n",
    "print(len(NTC))\n"
   ]
  },
  {
   "cell_type": "markdown",
   "metadata": {},
   "source": [
    "### Older version that didn't work well"
   ]
  },
  {
   "cell_type": "code",
   "execution_count": null,
   "metadata": {},
   "outputs": [],
   "source": [
    "# CSV_1_String = str(CSV_1)\n",
    "# #Lets you see what that string output looks like for spot checking purposes:\n",
    "# CSV_1_String.upper().split()\n",
    "# #Actually counts what you want it to count for controls\n",
    "# NTC = CSV_1_String.upper().split().count(\"NTC\")\n",
    "# #prints that number in a statement\n",
    "# print(\"There are\", NTC, \"total NTC controls.\")\n",
    "# PC = CSV_1_String.upper().split().count(\"PC\")\n",
    "# print(\"There are\", PC, \"total PC controls.\")\n",
    "# PBS = CSV_1_String.upper().split().count(\"PBS\")\n",
    "# print(\"There are\", PBS, \"total PBS controls.\")\n",
    "# HRC = CSV_1_String.upper().split().count(\"HRC\")\n",
    "# print(\"There are\", HRC, \"total HRC controls.\")\n",
    "\n",
    "# #count special samples \n",
    "# repetative expressions\n",
    "# regev"
   ]
  }
 ],
 "metadata": {
  "kernelspec": {
   "display_name": "Python 3",
   "language": "python",
   "name": "python3"
  },
  "language_info": {
   "codemirror_mode": {
    "name": "ipython",
    "version": 3
   },
   "file_extension": ".py",
   "mimetype": "text/x-python",
   "name": "python",
   "nbconvert_exporter": "python",
   "pygments_lexer": "ipython3",
   "version": "3.8.5"
  }
 },
 "nbformat": 4,
 "nbformat_minor": 4
}
