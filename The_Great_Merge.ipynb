{
 "cells": [
  {
   "cell_type": "markdown",
   "metadata": {},
   "source": [
    "## Combining CSVs: Useful Code Attempt 1\n",
    "\n",
    "### Goals for this script:\n",
    "\n",
    "* Make a chunk of code that does something useful\n",
    "\n",
    "* Be written in such a way so as to be universal, variables rather than exact names so there are minimal changes required by user\n",
    "\n",
    "* Count number of controls as an additional bonus at the end\n",
    "\n",
    "* Determine if csvs are of the same length, and alphebetize\n",
    "\n",
    "* Check for symmetry based on sample name and remove any mismatches, then output a list of what those are is a separate file\n",
    "\n",
    "* Combine two CSVs based on sample name and output a separate merged file"
   ]
  },
  {
   "cell_type": "code",
   "execution_count": 15,
   "metadata": {},
   "outputs": [],
   "source": [
    "#Importing packages:\n",
    "\n",
    "import Bio as BP\n",
    "import pandas as pd\n",
    "import numpy as np\n",
    "import collections as col\n",
    "import os\n",
    "import csv\n",
    "import re\n",
    "import regex"
   ]
  },
  {
   "cell_type": "code",
   "execution_count": 11,
   "metadata": {
    "scrolled": true
   },
   "outputs": [
    {
     "name": "stdout",
     "output_type": "stream",
     "text": [
      "/Users/anthea.mitchell/Desktop/Coding/CSVs/the_great_merge\n"
     ]
    }
   ],
   "source": [
    "cd /Users/anthea.mitchell/Desktop/Coding/CSVs/the_great_merge"
   ]
  },
  {
   "cell_type": "code",
   "execution_count": 17,
   "metadata": {
    "scrolled": true
   },
   "outputs": [],
   "source": [
    "'''Makes all sample names uppercase and alphebetized'''\n",
    "\n",
    "def upper_alphebetize1(CSV_1, CSV_2):\n",
    "    CSV_1['Name'] =CSV_1['Name'].str.upper()\n",
    "    CSV_1 = CSV_1.sort_values('Name')\n",
    "    CSV_2['Name'] =CSV_2['Name'].str.upper()\n",
    "    CSV_2 = CSV_2.sort_values('Name')\n",
    "    return CSV_1, CSV_2\n"
   ]
  },
  {
   "cell_type": "code",
   "execution_count": 18,
   "metadata": {},
   "outputs": [],
   "source": [
    "'''Remove nan values that otherwise cause errors in combining along rows and replace with ? value instead.'''\n",
    "def make_nan_question(Ordered_CSV_1, Ordered_CSV_2):\n",
    "    Ordered_nan_CSV_1=Ordered_CSV_1.fillna('?')\n",
    "    Ordered_nan_CSV_2=Ordered_CSV_2.fillna('?')\n",
    "    return(Ordered_nan_CSV_1, Ordered_nan_CSV_2)"
   ]
  },
  {
   "cell_type": "code",
   "execution_count": 19,
   "metadata": {},
   "outputs": [],
   "source": [
    "'''Notifies user if sample names are the same by adding to a list and comparing the lists'''\n",
    "\n",
    "def compare_lists(CSV_1, CSV_2):\n",
    "    List1 = CSV_1['Name'].tolist()\n",
    "    List2 = CSV_2['Name'].tolist()\n",
    "    if List1 != List2:\n",
    "        print(\"\\nOh no! Your sample names don't match. This could mean there are extra samples on one or both lists, or simply that the names of samples are different. Proceed with caution and look closely at any changes made by script.\")\n",
    "        confirm = input(\"\\nType 'OK' to acknowledge. \")\n",
    "    if List1 == List2:\n",
    "        print(\"\\nGo ahead! Everything matches!\")\n",
    "    return List1, List2"
   ]
  },
  {
   "cell_type": "code",
   "execution_count": 20,
   "metadata": {},
   "outputs": [],
   "source": [
    "'''Add items under column header \"Name\" as items in a list, creating a list for each CSV'''\n",
    "\n",
    "def make_lists(CSV_1, CSV_2):\n",
    "    List1 = CSV_1['Name'].tolist()\n",
    "    List2 = CSV_2['Name'].tolist()\n",
    "    return List1, List2"
   ]
  },
  {
   "cell_type": "code",
   "execution_count": 21,
   "metadata": {},
   "outputs": [],
   "source": [
    "'''This code won't work if there are duplicates on the list, and while I played with automating the removal\n",
    "of duplicates, in the end it's usually a case where some human intervention is needed. Why is there a duplicate?\n",
    "Did someone scan something twice by accident? Is it literally just a case of copy pasting twice? Are they genuinely\n",
    "the same sample from a longitudinal study that simply need dates appended?'''\n",
    "\n",
    "def duplicate_search(List1, List2):\n",
    "    x = 0\n",
    "    Compare = col.Counter(List1)\n",
    "    for i in Compare:\n",
    "        x = x + Compare[i]\n",
    "        if Compare[i]>1:\n",
    "            print(\"\\nIn CSV_1 There is a repeated sample name called\", i, \"and you need to change or remove it before you continue.\")\n",
    "        elif x == len(List1):\n",
    "            print(\"\\nCSV_1 has no duplicates!\")\n",
    "    x = 0\n",
    "    Compare = col.Counter(List2)\n",
    "    for i in Compare:\n",
    "        x = x + Compare[i]\n",
    "        if Compare[i]>1:\n",
    "            print(\"\\nIn CSV_2 there is a repeated sample name called\", i, \"and you need to change or remove it before you continue.\")\n",
    "        elif x == len(List1):\n",
    "            print(\"\\nCSV_2 has no duplicates!\")\n",
    "    "
   ]
  },
  {
   "cell_type": "code",
   "execution_count": 22,
   "metadata": {},
   "outputs": [],
   "source": [
    "'''Learning experience: Nested for loops were a reminder of the importance of scope,a review of boolians, \n",
    "and good practice at indenting correctly. It compares each index in list 1 to each index in \n",
    "list 2, and then only after looping all the way through list 2 does it add an index to the set. \n",
    "Sets were also a new concept and are great because they do not accept duplicates.'''\n",
    "\n",
    "def loop_through_list_1(List1, List2):\n",
    "    new_set = set()\n",
    "    bad_set_1 = set()\n",
    "    for a in range(len(List1)):\n",
    "        flag = False\n",
    "        for b in range(len(List2)):\n",
    "            if List1[a] == List2[b]:\n",
    "                flag = True\n",
    "\n",
    "        if flag == True:\n",
    "            new_set.add(List1[a])\n",
    "            \n",
    "        if flag == False:\n",
    "            bad_set_1.add(List1[a])\n",
    "            \n",
    "    return bad_set_1, new_set"
   ]
  },
  {
   "cell_type": "code",
   "execution_count": 23,
   "metadata": {},
   "outputs": [],
   "source": [
    "'''This does the same, except in the other direction, this time comparing CSV2 to CSV1.'''\n",
    "def loop_through_list_2(List2, List1, bad_set_1, new_set):\n",
    "    for a in range(len(List2)):\n",
    "        flag = False\n",
    "        for b in range(len(List1)):\n",
    "            if List2[a] == List1[b]:\n",
    "                flag = True\n",
    "\n",
    "        if flag == True:\n",
    "            new_set.add(List2[a])\n",
    "            \n",
    "        if flag == False:\n",
    "            bad_set_1.add(List2[a])\n",
    "            \n",
    "    return bad_set_1, new_set"
   ]
  },
  {
   "cell_type": "code",
   "execution_count": 24,
   "metadata": {},
   "outputs": [],
   "source": [
    "'''Outputs the list of samples that don't appear on BOTH csvs as a file'''\n",
    "\n",
    "def make_bad_list_CSV(bad_list):\n",
    "    BL = pd.DataFrame(bad_list)\n",
    "    #removed_samples = bad_list.pop(0)\n",
    "    #df = pd.DataFrame(bad_list, columns = removed_samples)\n",
    "    BL.to_csv(str(input(\"\\nWhat do you want to call your output list of removed samples? (don't forget to write '.csv' at the end.) \")))"
   ]
  },
  {
   "cell_type": "code",
   "execution_count": 25,
   "metadata": {},
   "outputs": [],
   "source": [
    "'''Creates a fresh csv with all the rows merged by Name, selecting only those \n",
    "that appeared on both of the original CSVs.'''\n",
    "\n",
    "def create_great_merge_CSV_1(Ordered_nan_CSV_1, Ordered_nan_CSV_2, good_list):\n",
    "\n",
    "    new_df_1 = Ordered_nan_CSV_1[Ordered_nan_CSV_1.Name.isin(good_list)]\n",
    "    new_df_2 = Ordered_nan_CSV_2[Ordered_nan_CSV_2.Name.isin(good_list)]\n",
    "    \n",
    "    MergeFile = pd.merge(new_df_1, new_df_2, left_on =[\"Name\"], right_on = [\"Name\"])\n",
    "    \n",
    "    return MergeFile\n",
    "    \n"
   ]
  },
  {
   "cell_type": "code",
   "execution_count": 26,
   "metadata": {},
   "outputs": [],
   "source": [
    "'''Early csvs were run through code that replaced nan values with ? value, and this\n",
    "now removes those ? values so that the final csv has blank spaces where appropriate.'''\n",
    "def make_question_nan_again(merge_with_question):\n",
    "    merge_with_question = merge_with_question.replace('?', np.NaN)\n",
    "    \n",
    "    return merge_with_question.to_csv(input(\"\\nWhat do you want to call you new merged file? (don't forget .csv at the end) \"))"
   ]
  },
  {
   "cell_type": "code",
   "execution_count": 27,
   "metadata": {},
   "outputs": [],
   "source": [
    "def main():\n",
    "    print(\"This script takes two CSVs and merges them based on column heading. Please format your CSV so that names of samples are under a column called 'Name'.\")\n",
    "    \n",
    "    try:\n",
    "        CSV_1 = pd.read_csv(input(\"\\nWhat is your first csv file? (CSV_1) \"))\n",
    "    except:\n",
    "        print(\"\\nYou must have mistyped your file name, try again.\")\n",
    "        CSV_1 = pd.read_csv(input(\"\\nWhat is your first csv file? (CSV_1) \"))\n",
    "    try:\n",
    "        CSV_2 = pd.read_csv(input(\"\\nWhat is your second csv file? (CSV_2) \"))\n",
    "    except:\n",
    "        print(\"\\nYou must have mistyped your file name, try again.\")\n",
    "        CSV_2 = pd.read_csv(input(\"\\nWhat is your second csv file? (CSV_2) \"))\n",
    "\n",
    "    Ordered_CSV_1, Ordered_CSV_2 = upper_alphebetize1(CSV_1, CSV_2)\n",
    "    Ordered_nan_CSV_1, Ordered_nan_CSV_2 = make_nan_question(Ordered_CSV_1, Ordered_CSV_2)\n",
    "    List1, List2 = make_lists(Ordered_nan_CSV_1, Ordered_nan_CSV_2)\n",
    "    duplicate_search(List1, List2)\n",
    "    compare_lists(CSV_1, CSV_2)\n",
    "    bad_set_1, new_set = loop_through_list_1(List1, List2)\n",
    "    bad_set, good_set =loop_through_list_2(List2, List1, bad_set_1, new_set)\n",
    "    \n",
    "    bad_list = list(bad_set)\n",
    "    good_list = list(good_set)\n",
    "    \n",
    "    make_bad_list_CSV(bad_list)\n",
    "    merge_with_question = create_great_merge_CSV_1(Ordered_nan_CSV_1, Ordered_nan_CSV_2, good_list)\n",
    "    make_question_nan_again(merge_with_question)\n",
    "    \n",
    "    print (\"All done! Check your folder for new files!\")\n",
    "    "
   ]
  },
  {
   "cell_type": "code",
   "execution_count": 30,
   "metadata": {},
   "outputs": [
    {
     "name": "stdout",
     "output_type": "stream",
     "text": [
      "This script takes two CSVs and merges them based on column heading. Please format your CSV so that names of samples are under a column called 'Name'.\n",
      "\n",
      "What is your first csv file? (CSV_1) positive_cases.csv\n",
      "\n",
      "What is your second csv file? (CSV_2) Sample_CTS.csv\n",
      "\n",
      "In CSV_1 There is a repeated sample name called BX23WKEA9 and you need to change or remove it before you continue.\n",
      "\n",
      "In CSV_1 There is a repeated sample name called BX4F52M57 and you need to change or remove it before you continue.\n",
      "\n",
      "In CSV_1 There is a repeated sample name called BX7KL1JAU and you need to change or remove it before you continue.\n",
      "\n",
      "In CSV_1 There is a repeated sample name called BXK54P61Q and you need to change or remove it before you continue.\n",
      "\n",
      "In CSV_1 There is a repeated sample name called BXSNL7K9D and you need to change or remove it before you continue.\n",
      "\n",
      "In CSV_1 There is a repeated sample name called BXWUNRRN7 and you need to change or remove it before you continue.\n",
      "\n",
      "CSV_1 has no duplicates!\n",
      "\n",
      "In CSV_2 there is a repeated sample name called BX27RPNP3 and you need to change or remove it before you continue.\n",
      "\n",
      "In CSV_2 there is a repeated sample name called BXDSQR6C8 and you need to change or remove it before you continue.\n",
      "\n",
      "In CSV_2 there is a repeated sample name called BXE8MHAKK and you need to change or remove it before you continue.\n",
      "\n",
      "In CSV_2 there is a repeated sample name called BXWWHU18Q and you need to change or remove it before you continue.\n",
      "\n",
      "Oh no! Your sample names don't match. This could mean there are extra samples on one or both lists, or simply that the names of samples are different. Proceed with caution and look closely at any changes made by script.\n",
      "\n",
      "Type 'OK' to acknowledge. OK\n",
      "\n",
      "What do you want to call your output list of removed samples? (don't forget to write '.csv' at the end.) bad.csv\n",
      "\n",
      "What do you want to call you new merged file? (don't forget .csv at the end) good.csv\n",
      "All done! Check your folder for new files!\n"
     ]
    }
   ],
   "source": [
    "main()"
   ]
  },
  {
   "cell_type": "markdown",
   "metadata": {},
   "source": [
    "### Listing and Counting Controls or Special Samples:"
   ]
  },
  {
   "cell_type": "code",
   "execution_count": null,
   "metadata": {
    "scrolled": true
   },
   "outputs": [],
   "source": [
    "'''Should you need to search for certain control type names, this can be modified to search\n",
    "and output how many are present.'''\n",
    "\n",
    "CSV_1_String = str(CSV_1)\n",
    "NTC = re.findall(\"NTC\", CSV_1_String)\n",
    "print(NTC)\n",
    "print(len(NTC))\n"
   ]
  }
 ],
 "metadata": {
  "kernelspec": {
   "display_name": "Python 3",
   "language": "python",
   "name": "python3"
  },
  "language_info": {
   "codemirror_mode": {
    "name": "ipython",
    "version": 3
   },
   "file_extension": ".py",
   "mimetype": "text/x-python",
   "name": "python",
   "nbconvert_exporter": "python",
   "pygments_lexer": "ipython3",
   "version": "3.8.5"
  }
 },
 "nbformat": 4,
 "nbformat_minor": 4
}
